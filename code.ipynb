{
 "cells": [
  {
   "cell_type": "code",
   "execution_count": 3,
   "metadata": {},
   "outputs": [
    {
     "name": "stdout",
     "output_type": "stream",
     "text": [
      "[3, 9, 20, 15, 7]\n"
     ]
    }
   ],
   "source": [
    "from typing import Optional, List\n",
    "\n",
    "class TreeNode:\n",
    "    def __init__(self, val=0, left=None, right=None):\n",
    "        self.val = val\n",
    "        self.left = left\n",
    "        self.right = right\n",
    "\n",
    "class Solution:\n",
    "    def preorderTraversal(self, root: Optional[TreeNode]) -> List[int]:\n",
    "        res = []\n",
    "        def pre(root):\n",
    "            if not root:\n",
    "                return\n",
    "            else:\n",
    "                res.append(root.val)\n",
    "                pre(root.left)\n",
    "                pre(root.right)\n",
    "        pre(root)\n",
    "        return res\n",
    "\n",
    "\n",
    "if __name__ == '__main__':\n",
    "    a = TreeNode(3)\n",
    "    a.left = TreeNode(9)\n",
    "    a.right = TreeNode(20)\n",
    "    a.right.left = TreeNode(15)\n",
    "    a.right.right = TreeNode(7)\n",
    "\n",
    "    sol = Solution()\n",
    "\n",
    "    first = sol.preorderTraversal(a)\n",
    "    print(first)"
   ]
  },
  {
   "cell_type": "code",
   "execution_count": 15,
   "metadata": {},
   "outputs": [
    {
     "name": "stdout",
     "output_type": "stream",
     "text": [
      "0.09665107727050781\n"
     ]
    },
    {
     "data": {
      "text/plain": [
       "3"
      ]
     },
     "execution_count": 15,
     "metadata": {},
     "output_type": "execute_result"
    }
   ],
   "source": [
    "from time import time\n",
    "\n",
    "def decor(n, func):\n",
    "    def new_func(*args, **kwargs):\n",
    "        start = time()\n",
    "        for i in range(n):\n",
    "            func(*args, **kwargs)\n",
    "        end = time()\n",
    "        print(end - start)\n",
    "        return func(*args, **kwargs)\n",
    "    return new_func\n",
    "\n",
    "\n",
    "decor(1000000, sum)([1, 2])"
   ]
  }
 ],
 "metadata": {
  "kernelspec": {
   "display_name": ".venv",
   "language": "python",
   "name": "python3"
  },
  "language_info": {
   "codemirror_mode": {
    "name": "ipython",
    "version": 3
   },
   "file_extension": ".py",
   "mimetype": "text/x-python",
   "name": "python",
   "nbconvert_exporter": "python",
   "pygments_lexer": "ipython3",
   "version": "3.12.3"
  }
 },
 "nbformat": 4,
 "nbformat_minor": 2
}
